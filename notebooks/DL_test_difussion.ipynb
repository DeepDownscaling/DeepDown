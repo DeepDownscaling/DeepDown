{
 "cells": [
  {
   "cell_type": "code",
   "execution_count": 1,
   "id": "70fcacbc-46d5-4ed6-9925-e27fb819332e",
   "metadata": {},
   "outputs": [
    {
     "name": "stderr",
     "output_type": "stream",
     "text": [
      "/storage/homefs/no21h426/.local/lib/python3.10/site-packages/tqdm/auto.py:21: TqdmWarning: IProgress not found. Please update jupyter and ipywidgets. See https://ipywidgets.readthedocs.io/en/stable/user_install.html\n",
      "  from .autonotebook import tqdm as notebook_tqdm\n"
     ]
    }
   ],
   "source": [
    "\n",
    "import sys\n",
    "import argparse\n",
    "# Add the parent directory to sys.path\n",
    "sys.path.append('/storage/homefs/no21h426/DL-downscaling/')\n",
    "import os\n",
    "import yaml\n",
    "import math\n",
    "import warnings\n",
    "import numpy as np\n",
    "import xarray as xr\n",
    "import dask\n",
    "from time import time\n",
    "\n",
    "# Import torch\n",
    "import torch\n",
    "import torch.nn as nn\n",
    "import torch.optim as optim\n",
    "import torch.utils.data as data\n",
    "from torch.utils.data import Dataset, DataLoader, sampler, TensorDataset\n",
    "from torch.utils.data import sampler\n",
    "import torch.utils.checkpoint as checkpoint\n",
    "import torch.nn.functional as F\n",
    "\n",
    "import torchvision.datasets as dset\n",
    "import torchvision.transforms as T\n",
    "\n",
    "from einops import rearrange\n",
    "from einops.layers.torch import Rearrange\n",
    "\n",
    "# Utils\n",
    "from utils.data_loader import *\n",
    "from utils.utils_plot import *\n",
    "from utils.utils_loss import *\n",
    "from utils.helpers import *\n",
    "from utils.Datagenerators import *\n",
    "from src.constants import *\n",
    "# Try dask.distributed and see if the performance improves...\n",
    "from dask.distributed import Client\n",
    "c = Client(n_workers=os.cpu_count()-2, threads_per_worker=1)\n",
    "\n",
    "warnings.filterwarnings(\"ignore\", category=RuntimeWarning, message=\"divide by zero encountered in divide\")"
   ]
  },
  {
   "cell_type": "code",
   "execution_count": 2,
   "id": "9dcb537d-c0ce-4ef8-b3fc-f5eb1de804c2",
   "metadata": {},
   "outputs": [
    {
     "name": "stdout",
     "output_type": "stream",
     "text": [
      "Cuda Avaliable : True\n",
      "cuda\n"
     ]
    }
   ],
   "source": [
    "print(\"Cuda Avaliable :\", torch.cuda.is_available())\n",
    "\n",
    "device = torch.device('cuda' if torch.cuda.is_available() else 'cpu')\n",
    "print(device)"
   ]
  },
  {
   "cell_type": "code",
   "execution_count": 3,
   "id": "f9fcf302-5da8-4318-93d2-001da6d2d271",
   "metadata": {},
   "outputs": [
    {
     "name": "stdout",
     "output_type": "stream",
     "text": [
      "Target data loaded from pickle.\n",
      "Input data loaded from pickle.\n"
     ]
    },
    {
     "name": "stderr",
     "output_type": "stream",
     "text": [
      "/storage/homefs/no21h426/.local/lib/python3.10/site-packages/distributed/client.py:3109: UserWarning: Sending large graph of size 115.97 MiB.\n",
      "This may cause some slowdown.\n",
      "Consider scattering data ahead of time and using futures.\n",
      "  warnings.warn(\n",
      "/storage/homefs/no21h426/.local/lib/python3.10/site-packages/distributed/client.py:3109: UserWarning: Sending large graph of size 115.97 MiB.\n",
      "This may cause some slowdown.\n",
      "Consider scattering data ahead of time and using futures.\n",
      "  warnings.warn(\n"
     ]
    },
    {
     "name": "stdout",
     "output_type": "stream",
     "text": [
      "Loading data into RAM\n"
     ]
    },
    {
     "name": "stderr",
     "output_type": "stream",
     "text": [
      "/storage/homefs/no21h426/.local/lib/python3.10/site-packages/distributed/client.py:3109: UserWarning: Sending large graph of size 115.97 MiB.\n",
      "This may cause some slowdown.\n",
      "Consider scattering data ahead of time and using futures.\n",
      "  warnings.warn(\n"
     ]
    },
    {
     "name": "stdout",
     "output_type": "stream",
     "text": [
      "Loading data into RAM\n"
     ]
    },
    {
     "name": "stderr",
     "output_type": "stream",
     "text": [
      "/storage/homefs/no21h426/.local/lib/python3.10/site-packages/distributed/client.py:3109: UserWarning: Sending large graph of size 35.69 MiB.\n",
      "This may cause some slowdown.\n",
      "Consider scattering data ahead of time and using futures.\n",
      "  warnings.warn(\n"
     ]
    },
    {
     "name": "stdout",
     "output_type": "stream",
     "text": [
      "Loading data into RAM\n"
     ]
    },
    {
     "name": "stderr",
     "output_type": "stream",
     "text": [
      "/storage/homefs/no21h426/.local/lib/python3.10/site-packages/distributed/client.py:3109: UserWarning: Sending large graph of size 53.54 MiB.\n",
      "This may cause some slowdown.\n",
      "Consider scattering data ahead of time and using futures.\n",
      "  warnings.warn(\n"
     ]
    }
   ],
   "source": [
    "target = load_target_data(DATE_START, DATE_END, PATH_MCH)\n",
    "x_axis = target.TabsD.x\n",
    "y_axis = target.TabsD.y\n",
    "    \n",
    "\n",
    "input_data = load_input_data(DATE_START, DATE_END, PATH_DEM, INPUT_VARIABLES, INPUT_PATHS, \n",
    "                                 LEVELS, RESOL_LOW, x_axis, y_axis)\n",
    "\n",
    "\n",
    "\n",
    "if DO_CROP:\n",
    "    input_data = input_data.sel(x=slice(min(CROP_X), max(CROP_X)), y=slice(max(CROP_Y), min(CROP_Y)))\n",
    "    target = target.sel(x=slice(min(CROP_X), max(CROP_X)), y=slice(max(CROP_Y), min(CROP_Y)))\n",
    "\n",
    "\n",
    "# Split the data (small data for testing purposes)\n",
    "x_train = input_data.sel(time=slice('1999', '2011')) \n",
    "x_valid = input_data.sel(time=slice('2012', '2015')) \n",
    "x_test = input_data.sel(time=slice('2016', '2021'))\n",
    "\n",
    "y_train = target.sel(time=slice('1999', '2011'))\n",
    "y_valid = target.sel(time=slice('2012', '2015'))\n",
    "y_test = target.sel(time=slice('2006', '2011'))\n",
    "\n",
    "# Select the variables to use as input and output\n",
    "input_vars = {'topo' : None, 'tp': None, 't': LEVELS}\n",
    "output_vars = ['RhiresD', 'TabsD'] #['RhiresD', 'TabsD', 'TmaxD', 'TminD']\n",
    "\n",
    "training_set = DataGenerator(x_train, y_train, input_vars, output_vars)\n",
    "loader_train = torch.utils.data.DataLoader(training_set, batch_size=32)\n",
    "\n",
    "# Validation\n",
    "valid_set = DataGenerator(x_valid, y_valid, input_vars, output_vars, shuffle=False, mean=training_set.mean, std=training_set.std)\n",
    "loader_val = torch.utils.data.DataLoader(valid_set, batch_size=32)\n",
    "\n",
    "# Test\n",
    "test_set = DataGenerator(x_test, y_test, input_vars, output_vars, shuffle=False, mean=training_set.mean, std=training_set.std)\n",
    "loader_test = torch.utils.data.DataLoader(test_set, batch_size=32)\n",
    "\n",
    "torch.cuda.empty_cache()"
   ]
  },
  {
   "cell_type": "code",
   "execution_count": 11,
   "id": "407e51f1-6e3e-4d0b-9e47-3bbd3ca04677",
   "metadata": {},
   "outputs": [],
   "source": [
    "from transformers import Swin2SRConfig, Swin2SRModel\n",
    "\n",
    "# Initializing a Swin2SR caidas/swin2sr-classicalsr-x2-64 style configuration\n",
    "configuration = Swin2SRConfig()\n",
    "\n",
    "# Initializing a model (with random weights) from the caidas/swin2sr-classicalsr-x2-64 style configuration\n",
    "#model = Swin2SRModel(configuration)\n",
    "\n",
    "# Accessing the model configuration\n",
    "#configuration = model.config"
   ]
  },
  {
   "cell_type": "code",
   "execution_count": 12,
   "id": "f007ce19-8621-49d4-b6c9-250d63ea6005",
   "metadata": {
    "collapsed": true,
    "jupyter": {
     "outputs_hidden": true
    },
    "tags": []
   },
   "outputs": [
    {
     "data": {
      "text/plain": [
       "Swin2SRConfig {\n",
       "  \"attention_probs_dropout_prob\": 0.0,\n",
       "  \"depths\": [\n",
       "    6,\n",
       "    6,\n",
       "    6,\n",
       "    6,\n",
       "    6,\n",
       "    6\n",
       "  ],\n",
       "  \"drop_path_rate\": 0.1,\n",
       "  \"embed_dim\": 180,\n",
       "  \"hidden_act\": \"gelu\",\n",
       "  \"hidden_dropout_prob\": 0.0,\n",
       "  \"image_size\": 64,\n",
       "  \"img_range\": 1.0,\n",
       "  \"initializer_range\": 0.02,\n",
       "  \"layer_norm_eps\": 1e-05,\n",
       "  \"mlp_ratio\": 2.0,\n",
       "  \"model_type\": \"swin2sr\",\n",
       "  \"num_channels\": 3,\n",
       "  \"num_heads\": [\n",
       "    6,\n",
       "    6,\n",
       "    6,\n",
       "    6,\n",
       "    6,\n",
       "    6\n",
       "  ],\n",
       "  \"num_layers\": 6,\n",
       "  \"patch_size\": 1,\n",
       "  \"qkv_bias\": true,\n",
       "  \"resi_connection\": \"1conv\",\n",
       "  \"transformers_version\": \"4.30.2\",\n",
       "  \"upsampler\": \"pixelshuffle\",\n",
       "  \"upscale\": 2,\n",
       "  \"use_absolute_embeddings\": false,\n",
       "  \"window_size\": 8\n",
       "}"
      ]
     },
     "execution_count": 12,
     "metadata": {},
     "output_type": "execute_result"
    }
   ],
   "source": [
    "configuration"
   ]
  },
  {
   "cell_type": "code",
   "execution_count": 7,
   "id": "eb971b59-ca08-4cb6-9387-469ec8ad4000",
   "metadata": {},
   "outputs": [
    {
     "name": "stderr",
     "output_type": "stream",
     "text": [
      "Downloading (…)rocessor_config.json: 100%|██████████| 152/152 [00:00<00:00, 807kB/s]\n",
      "Downloading (…)lve/main/config.json: 100%|██████████| 772/772 [00:00<00:00, 4.85MB/s]\n",
      "Downloading pytorch_model.bin: 100%|██████████| 48.6M/48.6M [00:01<00:00, 32.4MB/s]\n"
     ]
    }
   ],
   "source": [
    "import torch\n",
    "import numpy as np\n",
    "from PIL import Image\n",
    "import requests\n",
    "\n",
    "from transformers import AutoImageProcessor, Swin2SRForImageSuperResolution\n",
    "\n",
    "processor = AutoImageProcessor.from_pretrained(\"caidas/swin2SR-classical-sr-x2-64\")\n",
    "model = Swin2SRForImageSuperResolution.from_pretrained(\"caidas/swin2SR-classical-sr-x2-64\")\n",
    "\n",
    "url = \"https://huggingface.co/spaces/jjourney1125/swin2sr/resolve/main/samples/butterfly.jpg\"\n",
    "image = Image.open(requests.get(url, stream=True).raw)\n",
    "# prepare image for the model\n",
    "inputs = processor(image, return_tensors=\"pt\")\n",
    "\n",
    "# forward pass\n",
    "with torch.no_grad():\n",
    "    outputs = model(**inputs)\n",
    "\n",
    "output = outputs.reconstruction.data.squeeze().float().cpu().clamp_(0, 1).numpy()\n",
    "output = np.moveaxis(output, source=0, destination=-1)\n",
    "output = (output * 255.0).round().astype(np.uint8)  # float32 to uint8\n",
    "# you can visualize `output` with `Image.fromarray`"
   ]
  },
  {
   "cell_type": "code",
   "execution_count": null,
   "id": "c0cd5978-3e61-46d4-888c-d4d539e65ce2",
   "metadata": {},
   "outputs": [],
   "source": []
  }
 ],
 "metadata": {
  "kernelspec": {
   "display_name": "pyTT",
   "language": "python",
   "name": "pytt"
  },
  "language_info": {
   "codemirror_mode": {
    "name": "ipython",
    "version": 3
   },
   "file_extension": ".py",
   "mimetype": "text/x-python",
   "name": "python",
   "nbconvert_exporter": "python",
   "pygments_lexer": "ipython3",
   "version": "3.10.8"
  }
 },
 "nbformat": 4,
 "nbformat_minor": 5
}
