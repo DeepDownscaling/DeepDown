{
 "cells": [
  {
   "cell_type": "markdown",
   "source": [
    "# Simple check of the SRTM model and convert the tif to netcdf format"
   ],
   "metadata": {
    "collapsed": false
   },
   "id": "9d0af2b1b9603948"
  },
  {
   "cell_type": "code",
   "execution_count": null,
   "id": "e655f447-d3bd-43fb-aa44-32686b248942",
   "metadata": {},
   "outputs": [],
   "source": [
    "import xarray as xr\n",
    "import matplotlib.pyplot as plt\n",
    "import rioxarray"
   ]
  },
  {
   "cell_type": "code",
   "execution_count": null,
   "id": "879b47d4-ed10-4728-9c0e-506746383dc0",
   "metadata": {},
   "outputs": [],
   "source": [
    "raster = rioxarray.open_rasterio(\"/storage/workspaces/giub_hydro/hydro/data/SRTM/srtm_1k.tif\")"
   ]
  },
  {
   "cell_type": "code",
   "execution_count": null,
   "id": "81e16057-e204-4461-ba26-552fd3865af7",
   "metadata": {},
   "outputs": [],
   "source": [
    "# Check the raster file\n",
    "plt.imshow(raster.squeeze())"
   ]
  },
  {
   "cell_type": "code",
   "execution_count": null,
   "id": "3b6c0f04-0b1a-44a9-9493-32ce07aaf089",
   "metadata": {},
   "outputs": [],
   "source": [
    "# Convert to ncdf\n",
    "nc_file = '/storage/workspaces/giub_hydro/hydro/data/SRTM/srtm_1k.nc'\n",
    "raster.to_netcdf(nc_file)"
   ]
  },
  {
   "cell_type": "code",
   "execution_count": null,
   "id": "c221a5ef-dbf9-4fb6-8c02-60eed4b115fa",
   "metadata": {},
   "outputs": [],
   "source": [
    "# Open the NetCDF file using xarray\n",
    "dataset = xr.open_dataset(nc_file)\n",
    "\n",
    "# Access the data variables\n",
    "data_var = dataset['__xarray_dataarray_variable__']"
   ]
  },
  {
   "cell_type": "code",
   "execution_count": null,
   "id": "3ec16c11-93f0-444f-b23c-585c8e3c1cf1",
   "metadata": {},
   "outputs": [],
   "source": [
    "# Plot the data using imshow()\n",
    "plt.imshow(data_var.squeeze())\n",
    "\n",
    "# Add a colorbar\n",
    "plt.colorbar()\n",
    "\n",
    "# Show the plot\n",
    "plt.show()"
   ]
  }
 ],
 "metadata": {
  "kernelspec": {
   "display_name": "pyTT",
   "language": "python",
   "name": "pytt"
  },
  "language_info": {
   "codemirror_mode": {
    "name": "ipython",
    "version": 3
   },
   "file_extension": ".py",
   "mimetype": "text/x-python",
   "name": "python",
   "nbconvert_exporter": "python",
   "pygments_lexer": "ipython3",
   "version": "3.10.8"
  }
 },
 "nbformat": 4,
 "nbformat_minor": 5
}
