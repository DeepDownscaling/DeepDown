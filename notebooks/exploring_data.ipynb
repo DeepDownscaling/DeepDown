{
 "cells": [
  {
   "cell_type": "code",
   "metadata": {},
   "source": [
    "from ibicus.debias import QuantileMapping\n",
    "import xarray as xr\n",
    "from pathlib import Path\n",
    "\n",
    "from deepdown.utils.data_loader import DataLoader\n",
    "from deepdown.utils.debiaser_utils import get_ibicus_var_name, prepare_for_ibicus\n",
    "from deepdown.config import Config\n",
    "from deepdown.bias_correction_ibicus import correct_bias\n",
    "import matplotlib.pyplot as plt\n",
    "\n",
    "from argparse import Namespace\n",
    "cli_args = Namespace(config_file=\"../config.yaml\")\n",
    "config = Config(cli_args)\n",
    "conf = config.config\n"
   ],
   "outputs": [],
   "execution_count": null
  },
  {
   "cell_type": "code",
   "metadata": {},
   "source": [
    "dir_path = Path(conf.path_output)\n",
    "input_data_clim_debiased = xr.open_dataset(dir_path / \"input_data_clim_debiased.nc\")\n",
    "input_data_clim_debiased"
   ],
   "outputs": [],
   "execution_count": null
  },
  {
   "cell_type": "code",
   "metadata": {},
   "source": [
    "plt.figure(figsize=(10, 6))\n",
    "input_data_clim_debiased['t'][:,20,20].plot(label='t')\n",
    "input_data_clim_debiased['t_deb'][:,20,20].plot(label='t debiased')\n",
    "plt.xlabel('Time')\n",
    "plt.ylabel('Temperature')\n",
    "plt.legend()\n",
    "plt.show()"
   ],
   "outputs": [],
   "execution_count": null
  },
  {
   "cell_type": "code",
   "metadata": {},
   "source": [
    "\n",
    "# Load target data for the historical period\n",
    "target_data_hist = DataLoader(path_tmp=conf.path_tmp)\n",
    "target_data_hist.load(conf.period_hist_start, conf.period_hist_end,\n",
    "                        conf.path_targets)\n",
    "\n",
    "# Load input data (e.g. climate model) for the historical period\n",
    "input_data_hist = DataLoader(path_tmp=conf.path_tmp)\n",
    "input_data_hist.load(conf.period_hist_start, conf.period_hist_end, conf.path_inputs)\n",
    "\n",
    "# Load input data (e.g. climate model) for the future period\n",
    "input_data_clim = DataLoader(path_tmp=conf.path_tmp)\n",
    "input_data_clim.load(conf.period_clim_start, conf.period_clim_end, conf.path_inputs)\n",
    "\n",
    "# Coarsen the target data to the resolution of the input data\n",
    "target_data_hist.coarsen(\n",
    "    x_axis=input_data_hist.data.x, y_axis=input_data_hist.data.y,\n",
    "    from_proj='CH1903_LV95', to_proj='WGS84')\n",
    "\n",
    "# Bias correct each input variable\n",
    "for var_target, var_input in zip(conf.target_vars, conf.input_vars):\n",
    "    # Map to the ibicus variable names\n",
    "    var_ibicus = get_ibicus_var_name(var_target)\n",
    "\n",
    "    # Prepare data for ibicus\n",
    "    target_array_hist = prepare_for_ibicus(target_data_hist, var_target)\n",
    "    input_array_hist = prepare_for_ibicus(input_data_hist, var_input)\n",
    "    input_array_clim = prepare_for_ibicus(input_data_clim, var_input)\n",
    "\n",
    "    debiaser = QuantileMapping.from_variable(var_ibicus)\n",
    "    debiased_ts = debiaser.apply(\n",
    "        target_array_hist,\n",
    "        input_array_hist,\n",
    "        input_array_clim)\n",
    "\n",
    "    debiased_var = f\"{var_input}_deb\"\n",
    "    input_data_clim.data = input_data_clim.data.assign(\n",
    "        **{debiased_var: (('time', 'y', 'x'), debiased_ts)})\n",
    "\n",
    "# Save the debiased dataset to a NetCDF file\n",
    "output_path = Path(conf.path_output)\n",
    "file_out = output_path / \"input_data_clim_debiased.nc\"\n",
    "input_data_clim.data.to_netcdf(file_out)"
   ],
   "outputs": [],
   "execution_count": null
  }
 ],
 "metadata": {
  "kernelspec": {
   "display_name": "Python 3",
   "language": "python",
   "name": "python3"
  },
  "language_info": {
   "codemirror_mode": {
    "name": "ipython",
    "version": 3
   },
   "file_extension": ".py",
   "mimetype": "text/x-python",
   "name": "python",
   "nbconvert_exporter": "python",
   "pygments_lexer": "ipython3",
   "version": "3.10.8"
  }
 },
 "nbformat": 4,
 "nbformat_minor": 2
}
