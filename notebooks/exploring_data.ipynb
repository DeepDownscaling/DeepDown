{
 "cells": [
  {
   "cell_type": "code",
   "execution_count": null,
   "metadata": {},
   "outputs": [],
   "source": [
    "# Common imports\n",
    "import argparse\n",
    "import time\n",
    "import numpy as np\n",
    "import os\n",
    "from datetime import datetime\n",
    "import sys; sys.path.append('../deepdown/')\n",
    "\n",
    "# Import torch\n",
    "from torch.utils.data import Dataset\n",
    "from deepdown.utils.data_generators import DataGenerator\n",
    "import torch\n",
    "\n",
    "# Utils\n",
    "from utils.data_loader import load_target_data, load_input_data\n",
    "from utils.loss_fcts import *\n",
    "from utils.data_generators import DataGenerator\n",
    "from utils.helpers import print_cuda_availability, DEVICE\n",
    "from models.srgan import Generator, Discriminator\n",
    "from config import Config"
   ]
  },
  {
   "cell_type": "markdown",
   "metadata": {},
   "source": [
    "### Read the configuration file and load the data"
   ]
  },
  {
   "cell_type": "code",
   "execution_count": null,
   "metadata": {},
   "outputs": [],
   "source": [
    "from argparse import Namespace\n",
    "cli_args = Namespace(config_file=\"../config.yaml\")\n",
    "conf = Config(cli_args)\n",
    "conf.print()"
   ]
  },
  {
   "cell_type": "code",
   "execution_count": null,
   "metadata": {},
   "outputs": [],
   "source": [
    "# Date parameters\n",
    "date_start = conf.config.date_start\n",
    "date_end = conf.config.date_end\n",
    "\n",
    "# Years for training, validation, and testing\n",
    "years_train = conf.config.years_train\n",
    "years_valid = conf.config.years_valid\n",
    "years_test = conf.config.years_test\n",
    "\n",
    "# Other parameters\n",
    "levels = conf.config.levels\n",
    "resol_low = conf.config.resol_low\n",
    "\n",
    "# Input variables and paths\n",
    "input_variables = conf.config.input_vars\n",
    "input_paths = [\n",
    "    conf.config.path_era5land + '/precipitation',\n",
    "    conf.config.path_era5land + '/temperature',\n",
    "    conf.config.path_era5land + '/max_temperature/',\n",
    "    conf.config.path_era5land + '/min_temperature/'\n",
    "]\n",
    "\n",
    "# Crop parameters\n",
    "do_crop = conf.config.do_crop\n",
    "crop_x = conf.config.lon_limits\n",
    "crop_y = conf.config.lat_limits\n",
    "\n",
    "target_paths = [\n",
    "    conf.config.path_mch + '/RhiresD_v2.0_swiss.lv95/',\n",
    "    conf.config.path_mch + '/TabsD_v2.0_swiss.lv95/',\n",
    "    conf.config.path_mch + '/TmaxD_v2.0_swiss.lv95/',\n",
    "    conf.config.path_mch + '/TminD_v2.0_swiss.lv95/'\n",
    "]\n",
    "target_vars = conf.config.target_vars"
   ]
  },
  {
   "cell_type": "code",
   "execution_count": null,
   "metadata": {},
   "outputs": [],
   "source": [
    "# Load target data\n",
    "target = load_target_data(date_start, date_end, target_paths,\n",
    "                              path_tmp=conf.config.path_tmp)\n",
    "\n"
   ]
  },
  {
   "cell_type": "code",
   "execution_count": null,
   "metadata": {},
   "outputs": [],
   "source": [
    "# Extract the axes of the final target domain based on temperature \n",
    "x_axis = target.x\n",
    "y_axis = target.y"
   ]
  },
  {
   "cell_type": "code",
   "execution_count": null,
   "metadata": {},
   "outputs": [],
   "source": [
    "input_data = load_input_data(date_start=date_start, date_end=date_end, levels = levels, resol_low = 0.1, x_axis = x_axis, y_axis= y_axis, \n",
    "                                 paths = input_paths, path_dem=conf.config.path_dem, dump_data_to_pickle=True, path_tmp='../tmp/')\n",
    "\n"
   ]
  },
  {
   "cell_type": "code",
   "execution_count": null,
   "metadata": {},
   "outputs": [],
   "source": [
    "# if do_crop:\n",
    "    \n",
    "#     input_data = input_data.sel(x=slice(min(crop_x), max(crop_x)),\n",
    "#                                     y=slice(max(crop_y), min(crop_y)))\n",
    "#     target = target.sel(x=slice(min(crop_x), max(crop_x)),\n",
    "#                             y=slice(max(crop_y), min(crop_y)))\n",
    "\n",
    "# Split the data\n",
    "x_train = input_data.sel(time=slice( datetime(years_train[0],1,1), datetime(years_train[1], 12, 31)))\n",
    "x_valid = input_data.sel(time=slice( datetime(years_valid[0],1,1), datetime(years_valid[1], 12, 31)))\n",
    "x_test = input_data.sel(time=slice( datetime(years_test[0],1,1), datetime(years_test[1], 12, 31)))\n",
    "\n",
    "y_train = target.sel(time=slice( datetime(years_train[0],1,1), datetime(years_train[1], 12, 31)))\n",
    "y_valid = target.sel(time=slice( datetime(years_valid[0],1,1), datetime(years_valid[1], 12, 31)))\n",
    "y_test = target.sel(time=slice( datetime(years_test[0],1,1), datetime(years_test[1], 12, 31)))\n",
    "\n"
   ]
  },
  {
   "cell_type": "code",
   "execution_count": null,
   "metadata": {},
   "outputs": [],
   "source": [
    "# Select the variables to use as input and output\n",
    "input_vars = {'band_data': None, 'tp': None, 't2m': None, 't2m_min': None, 't2m_max': None}\n",
    "output_vars = ['tp', 't']  "
   ]
  },
  {
   "cell_type": "code",
   "execution_count": null,
   "metadata": {},
   "outputs": [],
   "source": [
    "training_set = DataGenerator(inputs=x_train, outputs=y_train, input_vars=input_vars, \n",
    "              output_vars=output_vars, do_crop= True, crop_x = crop_x, crop_y=crop_y, shuffle=True, load=False,\n",
    "                 mean=None, std=None, y_mean=None, y_std=None, tp_log=None)\n",
    "loader_train = torch.utils.data.DataLoader(training_set, batch_size=32)\n",
    "valid_set = DataGenerator(x_valid, y_valid, input_vars, output_vars, do_crop= True, crop_x = crop_x, crop_y=crop_y, shuffle=False, load=False,\n",
    "                              mean=training_set.mean, std=training_set.std)\n",
    "loader_val = torch.utils.data.DataLoader(valid_set, batch_size=32)\n",
    "test_set = DataGenerator(x_test, y_test, input_vars, output_vars, do_crop= True, crop_x = crop_x, crop_y=crop_y, shuffle=False, load=False,\n",
    "                             mean=training_set.mean, std=training_set.std)\n",
    "loader_test = torch.utils.data.DataLoader(test_set, batch_size=32)"
   ]
  }
 ],
 "metadata": {
  "kernelspec": {
   "display_name": "pyTT",
   "language": "python",
   "name": "pytt"
  },
  "language_info": {
   "codemirror_mode": {
    "name": "ipython",
    "version": 3
   },
   "file_extension": ".py",
   "mimetype": "text/x-python",
   "name": "python",
   "nbconvert_exporter": "python",
   "pygments_lexer": "ipython3",
   "version": "3.10.8"
  }
 },
 "nbformat": 4,
 "nbformat_minor": 2
}
