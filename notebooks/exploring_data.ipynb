{
 "cells": [
  {
   "cell_type": "code",
   "execution_count": null,
   "metadata": {},
   "outputs": [],
   "source": [
    "# Common imports\n",
    "import sys\n",
    "sys.path.append('../deepdown/')\n",
    "\n",
    "# Import torch\n",
    "from torch.utils.data import Dataset\n",
    "\n",
    "# Utils\n",
    "from deepdown.utils.data_loader import load_target_data, load_input_data\n",
    "from deepdown.utils.loss_fcts import *\n",
    "from deepdown.utils.data_generators import DataGenerator\n",
    "from deepdown.utils.helpers import split_data\n",
    "from deepdown.config import Config"
   ]
  },
  {
   "cell_type": "markdown",
   "metadata": {},
   "source": [
    "### Read the configuration file and load the data"
   ]
  },
  {
   "cell_type": "code",
   "execution_count": null,
   "metadata": {},
   "outputs": [],
   "source": [
    "from argparse import Namespace\n",
    "cli_args = Namespace(config_file=\"../config.yaml\")\n",
    "config = Config(cli_args)\n",
    "config.print()\n",
    "conf = config.config"
   ]
  },
  {
   "cell_type": "code",
   "execution_count": null,
   "metadata": {},
   "outputs": [],
   "source": [
    "# Input variables and paths\n",
    "input_paths = [\n",
    "    conf.path_era5land + '/precipitation',\n",
    "    conf.path_era5land + '/temperature',\n",
    "    conf.path_era5land + '/max_temperature/',\n",
    "    conf.path_era5land + '/min_temperature/'\n",
    "]\n",
    "target_paths = [\n",
    "    conf.path_mch + '/RhiresD_v2.0_swiss.lv95/',\n",
    "    conf.path_mch + '/TabsD_v2.0_swiss.lv95/',\n",
    "    conf.path_mch + '/TmaxD_v2.0_swiss.lv95/',\n",
    "    conf.path_mch + '/TminD_v2.0_swiss.lv95/'\n",
    "]"
   ]
  },
  {
   "cell_type": "code",
   "execution_count": null,
   "metadata": {},
   "outputs": [],
   "source": [
    "# Load target data\n",
    "target = load_target_data(conf.date_start, conf.date_end, target_paths,\n",
    "                          path_tmp=conf.path_tmp)"
   ]
  },
  {
   "cell_type": "code",
   "execution_count": null,
   "metadata": {},
   "outputs": [],
   "source": [
    "input_data = load_input_data(\n",
    "    date_start=conf.date_start, date_end=conf.date_end, levels=conf.levels,\n",
    "    resol_low=conf.resol_low, x_axis=target.x, y_axis=target.y,\n",
    "    paths=input_paths, path_dem=conf.path_dem, dump_data_to_pickle=True,\n",
    "    path_tmp=conf.path_tmp)"
   ]
  },
  {
   "cell_type": "code",
   "execution_count": null,
   "metadata": {},
   "outputs": [],
   "source": [
    "# Split the data\n",
    "x_train = split_data(input_data, conf.years_train)\n",
    "x_valid = split_data(input_data, conf.years_valid)\n",
    "x_test = split_data(input_data, conf.years_test)\n",
    "y_train = split_data(target, conf.years_train)\n",
    "y_valid = split_data(target, conf.years_valid)\n",
    "y_test = split_data(target, conf.years_test)"
   ]
  },
  {
   "cell_type": "code",
   "execution_count": null,
   "metadata": {},
   "outputs": [],
   "source": [
    "training_set = DataGenerator(\n",
    "    x_train, y_train, conf.input_vars, conf.target_vars, do_crop=conf.do_crop,\n",
    "    crop_x=conf.crop_x, crop_y=conf.crop_y, shuffle=True, tp_log=None)\n",
    "loader_train = torch.utils.data.DataLoader(training_set, batch_size=conf.batch_size)\n",
    "valid_set = DataGenerator(\n",
    "    x_valid, y_valid, conf.input_vars, conf.target_vars, do_crop=conf.do_crop,\n",
    "    crop_x=conf.crop_x, crop_y=conf.crop_y, shuffle=False,\n",
    "    x_mean=training_set.x_mean, x_std=training_set.x_std)\n",
    "loader_val = torch.utils.data.DataLoader(valid_set, batch_size=conf.batch_size)\n",
    "test_set = DataGenerator(\n",
    "    x_test, y_test, conf.input_vars, conf.target_vars, do_crop=conf.do_crop,\n",
    "    crop_x=conf.crop_x, crop_y=conf.crop_y, shuffle=False,\n",
    "    x_mean=training_set.x_mean, x_std=training_set.x_std)\n",
    "loader_test = torch.utils.data.DataLoader(test_set, batch_size=conf.batch_size)"
   ]
  },
  {
   "cell_type": "code",
   "outputs": [],
   "source": [],
   "metadata": {
    "collapsed": false
   }
  }
 ],
 "metadata": {
  "kernelspec": {
   "name": "python3",
   "language": "python",
   "display_name": "Python 3 (ipykernel)"
  },
  "language_info": {
   "codemirror_mode": {
    "name": "ipython",
    "version": 3
   },
   "file_extension": ".py",
   "mimetype": "text/x-python",
   "name": "python",
   "nbconvert_exporter": "python",
   "pygments_lexer": "ipython3",
   "version": "3.10.8"
  }
 },
 "nbformat": 4,
 "nbformat_minor": 2
}
